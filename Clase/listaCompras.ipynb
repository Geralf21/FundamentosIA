{
 "cells": [
  {
   "cell_type": "markdown",
   "id": "804c7033",
   "metadata": {},
   "source": [
    "**1. Petición de Datos de los Productos**\n"
   ]
  },
  {
   "cell_type": "code",
   "execution_count": 1,
   "id": "70376ab3",
   "metadata": {},
   "outputs": [
    {
     "name": "stdout",
     "output_type": "stream",
     "text": [
      "\n",
      "--- Producto 1 ---\n",
      "\n",
      "--- Producto 2 ---\n",
      "\n",
      "--- Producto 3 ---\n",
      "\n",
      "¡Datos de los 3 productos guardados!\n"
     ]
    }
   ],
   "source": [
    "# Creamos una lista vacía para almacenar nuestros productos\n",
    "lista_de_compras = []\n",
    "\n",
    "# Usamos un bucle 'for' para repetir la pregunta 3 veces\n",
    "for i in range(3):\n",
    "    print(f\"\\n--- Producto {i+1} ---\")\n",
    "    \n",
    "    # 1. Pedimos el nombre del producto.\n",
    "    nombre_producto = input(\"Ingresa el nombre del producto: \")\n",
    "    \n",
    "    # Pedimos el precio y lo convertimos a tipo flotante (decimal)\n",
    "    precio_producto = float(input(\"Ingresa el precio del producto: \"))\n",
    "    \n",
    "    # 2. Guardamos el nombre y el precio en un diccionario.\n",
    "    producto = {\"nombre\": nombre_producto, \"precio\": precio_producto}\n",
    "    \n",
    "    # Agregamos el diccionario a nuestra lista de compras\n",
    "    lista_de_compras.append(producto)\n",
    "\n",
    "print(\"\\n¡Datos de los 3 productos guardados!\")"
   ]
  },
  {
   "cell_type": "markdown",
   "id": "cf97dde7",
   "metadata": {},
   "source": [
    "**2. Calcular el Total y Encontrar el Más Caro**"
   ]
  },
  {
   "cell_type": "code",
   "execution_count": 2,
   "id": "9d521cc4",
   "metadata": {},
   "outputs": [],
   "source": [
    "total_a_pagar = 0\n",
    "producto_mas_caro = None\n",
    "precio_mas_alto = 0.0\n",
    "\n",
    "# Recorremos cada diccionario dentro de nuestra lista de compras\n",
    "for producto in lista_de_compras:\n",
    "    total_a_pagar += producto[\"precio\"]\n",
    "    \n",
    "    if producto[\"precio\"] > precio_mas_alto:\n",
    "        precio_mas_alto = producto[\"precio\"]\n",
    "        producto_mas_caro = producto"
   ]
  },
  {
   "cell_type": "markdown",
   "id": "3176df5d",
   "metadata": {},
   "source": [
    "**3. Mostrar el Resumen**"
   ]
  },
  {
   "cell_type": "code",
   "execution_count": 3,
   "id": "28bad180",
   "metadata": {},
   "outputs": [
    {
     "name": "stdout",
     "output_type": "stream",
     "text": [
      "\n",
      "========== Resumen de tu compra ==========\n",
      "Lista de productos:\n",
      "  - Fideos: $2499.99\n",
      "  - Arroz: $1200.00\n",
      "  - Carne: $10900.00\n",
      "\n",
      "Total a pagar: $14599.99\n",
      "El producto más caro es: Carne con un precio de $10900.00\n",
      "==========================================\n"
     ]
    }
   ],
   "source": [
    "print(\"\\n========== Resumen de tu compra ==========\")\n",
    "print(\"Lista de productos:\")\n",
    "for producto in lista_de_compras:\n",
    "    print(f\"  - {producto['nombre']}: ${producto['precio']:.2f}\")\n",
    "\n",
    "print(f\"\\nTotal a pagar: ${total_a_pagar:.2f}\")\n",
    "\n",
    "# Producto más caro \n",
    "if producto_mas_caro:\n",
    "    print(f\"El producto más caro es: {producto_mas_caro['nombre']} con un precio de ${producto_mas_caro['precio']:.2f}\")\n",
    "else:\n",
    "    print(\"No se registraron productos.\")\n",
    "\n",
    "print(\"==========================================\")"
   ]
  }
 ],
 "metadata": {
  "kernelspec": {
   "display_name": "Python 3",
   "language": "python",
   "name": "python3"
  },
  "language_info": {
   "codemirror_mode": {
    "name": "ipython",
    "version": 3
   },
   "file_extension": ".py",
   "mimetype": "text/x-python",
   "name": "python",
   "nbconvert_exporter": "python",
   "pygments_lexer": "ipython3",
   "version": "3.13.7"
  }
 },
 "nbformat": 4,
 "nbformat_minor": 5
}
