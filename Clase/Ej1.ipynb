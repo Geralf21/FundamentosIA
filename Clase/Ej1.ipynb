{
 "cells": [
  {
   "cell_type": "markdown",
   "id": "905d8df6",
   "metadata": {},
   "source": [
    "**Solicitar nombre al usuario y año de nacimiento**"
   ]
  },
  {
   "cell_type": "code",
   "execution_count": 1,
   "id": "0ed6bed2",
   "metadata": {},
   "outputs": [
    {
     "name": "stdout",
     "output_type": "stream",
     "text": [
      "Bienvenido a este programa:)\n"
     ]
    }
   ],
   "source": [
    "print(\"Bienvenido a este programa:)\")\n",
    "nombre_usuario = input(\"Por favor, ingresa tu nombre: \")\n",
    "ano_nacimiento = int(input(\"Por favor, ingresa tu año de nacimiento: \"))"
   ]
  },
  {
   "cell_type": "markdown",
   "id": "2831a740",
   "metadata": {},
   "source": [
    "**Calcular la edad y mostrar que tipo de dato es**"
   ]
  },
  {
   "cell_type": "code",
   "execution_count": 2,
   "id": "cc9fbb9d",
   "metadata": {},
   "outputs": [
    {
     "name": "stdout",
     "output_type": "stream",
     "text": [
      "Su edad es de: 25 años.\n",
      "\n",
      "Su edad es:  25\n"
     ]
    }
   ],
   "source": [
    "# Calculo de edad + impresion\n",
    "edad_usuario = 2025 - ano_nacimiento\n",
    "print(f\"Su edad es de: {edad_usuario} años.\\n\")\n",
    "print(\"Su edad es: \", edad_usuario)"
   ]
  },
  {
   "cell_type": "markdown",
   "id": "c46ab366",
   "metadata": {},
   "source": [
    "**¿Persona mayor de edad?**"
   ]
  },
  {
   "cell_type": "code",
   "execution_count": 3,
   "id": "de230436",
   "metadata": {},
   "outputs": [
    {
     "name": "stdout",
     "output_type": "stream",
     "text": [
      "¿Es usted mayor de edad?:  True\n"
     ]
    }
   ],
   "source": [
    "mayoria_edad = edad_usuario >= 18\n",
    "print(\"¿Es usted mayor de edad?: \", mayoria_edad)"
   ]
  },
  {
   "cell_type": "markdown",
   "id": "e2ef95bb",
   "metadata": {},
   "source": []
  }
 ],
 "metadata": {
  "kernelspec": {
   "display_name": "Python 3",
   "language": "python",
   "name": "python3"
  },
  "language_info": {
   "codemirror_mode": {
    "name": "ipython",
    "version": 3
   },
   "file_extension": ".py",
   "mimetype": "text/x-python",
   "name": "python",
   "nbconvert_exporter": "python",
   "pygments_lexer": "ipython3",
   "version": "3.13.7"
  }
 },
 "nbformat": 4,
 "nbformat_minor": 5
}
