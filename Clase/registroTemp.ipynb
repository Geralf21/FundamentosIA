{
 "cells": [
  {
   "cell_type": "markdown",
   "id": "2be2218f",
   "metadata": {},
   "source": [
    "1. Solicitar la temperatura de 5 dias\n",
    "2. Mostrar el promedio maximo y minimo\n",
    "3. Temperatura alta (mayor 25°)\n",
    "4. Resumen"
   ]
  },
  {
   "cell_type": "code",
   "execution_count": null,
   "id": "21e1a79e",
   "metadata": {},
   "outputs": [
    {
     "name": "stdout",
     "output_type": "stream",
     "text": [
      "----------------- BIENVENIDO ----------------\n",
      "\n",
      "Problema sobre temperaturas\n",
      "\n",
      "Las temperaturas ingresadas son:  [20, 25, 28, 30, 32]\n",
      "\n",
      "Las temperaturas ingresadas son: [20, 25, 28, 30, 32]\n",
      "20, 25, 28, 30, 32\n",
      "\n",
      "Las temperaturas ingresadas son: 20, 25, 28, 30, 32\n",
      "\n",
      "La temperatura promedio es: 27.00\n",
      "La temperatura máxima es: 32.00\n",
      "La temperatura mínima es: 20.00\n",
      "\n",
      "La cantidad de días con temperatura mayor a 25°C es: 3\n"
     ]
    }
   ],
   "source": [
    "temperaturas = []\n",
    "dias_calor = 0\n",
    "\n",
    "print(\"----------------- BIENVENIDO ----------------\\n\")\n",
    "print(\"Problema sobre temperaturas\")\n",
    "\n",
    "#bucle para ingresar las temperaturas de 5 días\n",
    "while len(temperaturas) < 5:\n",
    "    tem = int(input(f\"Ingrese la temperatura del día {len(temperaturas)+1}: \"))\n",
    "    temperaturas.append(tem)\n",
    "    \n",
    "#impresión de las temperaturas ingresadas\n",
    "print(\"\\nLas temperaturas ingresadas son: \", temperaturas)\n",
    "#print(f\"\\nLas temperaturas ingresadas son: {temperaturas}\") #interpolación de cadenas\n",
    "#print(*temperaturas, sep=\", \")\n",
    "#print(\"\\nLas temperaturas ingresadas son: \", end=\"\")\n",
    "#print(*temperaturas, sep=\", \")\n",
    "\n",
    "#cálculo de la temperatura promedio\n",
    "promedio = sum(temperaturas) / len(temperaturas)\n",
    "maxima = max(temperaturas)\n",
    "minima = min(temperaturas)\n",
    "print(f\"\\nLa temperatura promedio es: {promedio:.2f}\")\n",
    "print(f\"La temperatura máxima es: {maxima:.2f}\")\n",
    "print(f\"La temperatura mínima es: {minima:.2f}\")\n",
    "\n",
    "#calculo de temperatura mayor a 25°C\n",
    "for tem in temperaturas:\n",
    "    if tem > 25:\n",
    "        dias_calor += 1\n",
    "\n",
    "print(f\"\\nLa cantidad de días con temperatura mayor a 25°C es: {dias_calor}\")"
   ]
  }
 ],
 "metadata": {
  "kernelspec": {
   "display_name": "Python 3",
   "language": "python",
   "name": "python3"
  },
  "language_info": {
   "codemirror_mode": {
    "name": "ipython",
    "version": 3
   },
   "file_extension": ".py",
   "mimetype": "text/x-python",
   "name": "python",
   "nbconvert_exporter": "python",
   "pygments_lexer": "ipython3",
   "version": "3.13.7"
  }
 },
 "nbformat": 4,
 "nbformat_minor": 5
}
